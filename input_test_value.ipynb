{
 "cells": [
  {
   "cell_type": "markdown",
   "id": "d43ac054-8a34-48db-898e-f847eeb3ba5c",
   "metadata": {},
   "source": [
    "# Input Test Value in Functional Programing with Python"
   ]
  },
  {
   "cell_type": "markdown",
   "id": "6954619a-0b59-41eb-81f9-a1c25b4c0ca5",
   "metadata": {},
   "source": [
    "### get_value(): basic function to retrive input value"
   ]
  },
  {
   "cell_type": "code",
   "execution_count": 2,
   "id": "02508690-d3a5-4566-8853-1fdcf769fac0",
   "metadata": {},
   "outputs": [],
   "source": [
    "\n",
    "def get_value(message):\n",
    "    '''\n",
    "    Return the value provided through input()\n",
    "    \n",
    "        Parameters:\n",
    "            message (str): A message to display for the user\n",
    "            \n",
    "        Return:\n",
    "            _ (str): the value provided by user\n",
    "    \n",
    "    '''\n",
    "    return input(f'{message} :')"
   ]
  },
  {
   "cell_type": "markdown",
   "id": "d9e7c1ab-ad97-4a87-8fc8-29010536c2ac",
   "metadata": {},
   "source": [
    "### The functions test: testing the input value"
   ]
  },
  {
   "cell_type": "code",
   "execution_count": 51,
   "id": "06e7be19-f635-4339-a8a6-1f7521654a3f",
   "metadata": {},
   "outputs": [],
   "source": [
    "\n",
    "\n",
    "def is_safe_digit(numb_str):\n",
    "    '''\n",
    "    Test if a given value can be converted to an integer object.\n",
    "    \n",
    "    If value non convertible, raises ValueError with default Error message: \"Please provide a int\"  \n",
    "    If value is convertible, return the given value.\n",
    "\n",
    "    \n",
    "        Parameters:\n",
    "            numb_str (str): A given string value\n",
    "            \n",
    "        Returns:\n",
    "            numb_int (int): an interger object\n",
    "    '''\n",
    "    try:\n",
    "        number_int = int(numb_str)\n",
    "    except ValueError:\n",
    "        raise ValueError('Please, provide a int.')\n",
    "    else: \n",
    "        return int(number_int)\n",
    "        \n",
    "    \n",
    "      \n",
    "def is_safe_zero_division(numb_int):\n",
    "    '''\n",
    "    Test if a give value can be use as denomitor for division. \n",
    "    \n",
    "    If value is zero, raises ZeroDivisionError with default Error message: \"Can't divide by 0.\"  \n",
    "    If value is not zero, return the value\n",
    "    \n",
    "        Parameters:\n",
    "            numb_str (int): A given int value\n",
    "    '''\n",
    "\n",
    "    try:\n",
    "        7/int(numb_int)\n",
    "    except ZeroDivisionError:\n",
    "        raise ZeroDivisionError('Can\\'t divide by 0.')\n",
    "            \n",
    "    else:\n",
    "            return numb_int\n",
    "        \n",
    "    return init_test\n",
    "\n",
    "def is_dummy():\n",
    "    return 'OK'\n",
    "\n",
    "\n",
    "        "
   ]
  },
  {
   "cell_type": "code",
   "execution_count": 45,
   "id": "99025dbd-0872-4b2f-8ecd-a46c92829456",
   "metadata": {},
   "outputs": [],
   "source": [
    "\n",
    "def test_value(test_func, recall_func, value):\n",
    "    '''\n",
    "    Test a given value with a given test function. \n",
    "    \n",
    "    If test failed, raises exception with personalised error message and return a recall function. \n",
    "    If test succeed, returnes a given value\n",
    "    \n",
    "        Parameters:\n",
    "            test_func (function): A test function which is going to test the given value. \n",
    "            recall_funct (function); A function that is going to be recalled if test failed (ie. give_value())\n",
    "            value: a value that needs to be tested.\n",
    "    '''\n",
    "        \n",
    "    try:\n",
    "        tested_value=test_func(value)\n",
    "    except Exception as exp:\n",
    "        print(f'{\"Error :\":<8} {exp}')\n",
    "        return recall_func()\n",
    "    else:\n",
    "        return value\n"
   ]
  },
  {
   "cell_type": "code",
   "execution_count": 53,
   "id": "b330e147-77e0-4da1-9b66-0ab2657c732b",
   "metadata": {},
   "outputs": [],
   "source": [
    "def get_value_and_test(*funcs, message):\n",
    "    \n",
    "    # first level - encapsulate the get get_value and test\n",
    "    \n",
    "    def launch_get_value():\n",
    "        \n",
    "        # second level - run de get value \n",
    "        \n",
    "        # If one of the test function raises exception - recursion on this level 'launch_get_value' (see function test_value)\n",
    "        \n",
    "        *tests, get_value=funcs # destructure functions, given that the last one must be get_value\n",
    "        \n",
    "        value = get_value(message) # run get value and assigne the input to variable value\n",
    "        \n",
    "        def launch_test(*tests, value):  \n",
    "            \n",
    "            # third level - Recursive function\n",
    "        \n",
    "            len_tests = len(tests) \n",
    "            \n",
    "            if len_tests ==1: # last test : end of the recursion \n",
    "                \n",
    "                last_test = tests[0]\n",
    "                \n",
    "                tested_value_approved =  test_value(last_test, launch_get_value, value) # if last test raises exeception call launch_get_value\n",
    "                \n",
    "                return tested_value_approved # end of get_value_and_test return approved tested_value \n",
    "                \n",
    "            else:\n",
    "            \n",
    "                *last_tests,  first_test = tests # get the last test of the list of test. If hierachy between tests (\n",
    "                                                 # ie. input must resturn an int(str), this test would have to be picked first)\n",
    "            \n",
    "                tested_value = test_value(first_test, launch_get_value, value) # if last test raises exeception call launch_get_value\n",
    "\n",
    "                # return launch_test(last_tests, value=tested_value) if len(last_tests)==1 else launch_test(*last_tests, value=tested_value)\n",
    "                \n",
    "                return launch_test(*last_tests, value=tested_value) # recursion of launch_test function wiht -1 function in test function\n",
    "\n",
    "              \n",
    "        return launch_test(*tests, value=value) # !!! launch_test FIRST RUN HERE \n",
    "\n",
    "    return launch_get_value\n",
    "  "
   ]
  },
  {
   "cell_type": "code",
   "execution_count": 54,
   "id": "1e46cedc-ac3b-4a10-9e89-91c807ac7d9b",
   "metadata": {},
   "outputs": [
    {
     "name": "stdin",
     "output_type": "stream",
     "text": [
      "Please enter int (not zero) : a\n"
     ]
    },
    {
     "ename": "NameError",
     "evalue": "name 'launch_get_value' is not defined",
     "output_type": "error",
     "traceback": [
      "\u001b[0;31m---------------------------------------------------------------------------\u001b[0m",
      "\u001b[0;31mNameError\u001b[0m                                 Traceback (most recent call last)",
      "\u001b[0;32m/tmp/ipykernel_50157/331325405.py\u001b[0m in \u001b[0;36m<module>\u001b[0;34m\u001b[0m\n\u001b[1;32m      1\u001b[0m \u001b[0mrun_test\u001b[0m \u001b[0;34m=\u001b[0m \u001b[0mget_value_and_test\u001b[0m\u001b[0;34m(\u001b[0m\u001b[0mis_safe_zero_division\u001b[0m\u001b[0;34m,\u001b[0m \u001b[0mis_safe_digit\u001b[0m\u001b[0;34m,\u001b[0m \u001b[0mget_value\u001b[0m\u001b[0;34m,\u001b[0m \u001b[0mmessage\u001b[0m\u001b[0;34m=\u001b[0m\u001b[0;34m'Please enter int (not zero)'\u001b[0m\u001b[0;34m)\u001b[0m\u001b[0;34m\u001b[0m\u001b[0;34m\u001b[0m\u001b[0m\n\u001b[1;32m      2\u001b[0m \u001b[0;34m\u001b[0m\u001b[0m\n\u001b[0;32m----> 3\u001b[0;31m \u001b[0mrun_test\u001b[0m\u001b[0;34m(\u001b[0m\u001b[0;34m)\u001b[0m\u001b[0;34m\u001b[0m\u001b[0;34m\u001b[0m\u001b[0m\n\u001b[0m",
      "\u001b[0;32m/tmp/ipykernel_50157/1218567804.py\u001b[0m in \u001b[0;36mlaunch_get_value\u001b[0;34m()\u001b[0m\n\u001b[1;32m     64\u001b[0m \u001b[0;34m\u001b[0m\u001b[0m\n\u001b[1;32m     65\u001b[0m \u001b[0;34m\u001b[0m\u001b[0m\n\u001b[0;32m---> 66\u001b[0;31m         \u001b[0;32mreturn\u001b[0m \u001b[0mlaunch_test\u001b[0m\u001b[0;34m(\u001b[0m\u001b[0;34m*\u001b[0m\u001b[0mtests\u001b[0m\u001b[0;34m,\u001b[0m \u001b[0mvalue\u001b[0m\u001b[0;34m=\u001b[0m\u001b[0mvalue\u001b[0m\u001b[0;34m)\u001b[0m \u001b[0;31m# !!! launch_test FIRST RUN HERE\u001b[0m\u001b[0;34m\u001b[0m\u001b[0;34m\u001b[0m\u001b[0m\n\u001b[0m\u001b[1;32m     67\u001b[0m \u001b[0;34m\u001b[0m\u001b[0m\n\u001b[1;32m     68\u001b[0m     \u001b[0;32mreturn\u001b[0m \u001b[0mlaunch_get_value\u001b[0m\u001b[0;34m\u001b[0m\u001b[0;34m\u001b[0m\u001b[0m\n",
      "\u001b[0;32m/tmp/ipykernel_50157/1218567804.py\u001b[0m in \u001b[0;36mlaunch_test\u001b[0;34m(value, *tests)\u001b[0m\n\u001b[1;32m     17\u001b[0m                                                  \u001b[0;31m# ie. input must resturn an int(str), this test would have to be picked first)\u001b[0m\u001b[0;34m\u001b[0m\u001b[0;34m\u001b[0m\u001b[0;34m\u001b[0m\u001b[0m\n\u001b[1;32m     18\u001b[0m \u001b[0;34m\u001b[0m\u001b[0m\n\u001b[0;32m---> 19\u001b[0;31m         \u001b[0mtested_value\u001b[0m \u001b[0;34m=\u001b[0m \u001b[0mtest_value\u001b[0m\u001b[0;34m(\u001b[0m\u001b[0mfirst_test\u001b[0m\u001b[0;34m,\u001b[0m \u001b[0mlaunch_get_value\u001b[0m\u001b[0;34m,\u001b[0m \u001b[0mvalue\u001b[0m\u001b[0;34m)\u001b[0m \u001b[0;31m# if last test raises exeception call launch_get_value\u001b[0m\u001b[0;34m\u001b[0m\u001b[0;34m\u001b[0m\u001b[0m\n\u001b[0m\u001b[1;32m     20\u001b[0m \u001b[0;34m\u001b[0m\u001b[0m\n\u001b[1;32m     21\u001b[0m                 \u001b[0;31m# return launch_test(last_tests, value=tested_value) if len(last_tests)==1 else launch_test(*last_tests, value=tested_value)\u001b[0m\u001b[0;34m\u001b[0m\u001b[0;34m\u001b[0m\u001b[0;34m\u001b[0m\u001b[0m\n",
      "\u001b[0;31mNameError\u001b[0m: name 'launch_get_value' is not defined"
     ]
    }
   ],
   "source": [
    "\n"
   ]
  },
  {
   "cell_type": "code",
   "execution_count": null,
   "id": "5e09ea39-5d9a-471f-a839-1de6c136c9bd",
   "metadata": {},
   "outputs": [],
   "source": []
  }
 ],
 "metadata": {
  "kernelspec": {
   "display_name": "Python 3",
   "language": "python",
   "name": "python3"
  },
  "language_info": {
   "codemirror_mode": {
    "name": "ipython",
    "version": 3
   },
   "file_extension": ".py",
   "mimetype": "text/x-python",
   "name": "python",
   "nbconvert_exporter": "python",
   "pygments_lexer": "ipython3",
   "version": "3.8.5"
  }
 },
 "nbformat": 4,
 "nbformat_minor": 5
}
