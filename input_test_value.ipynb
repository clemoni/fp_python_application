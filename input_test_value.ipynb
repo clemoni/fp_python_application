{
 "cells": [
  {
   "cell_type": "markdown",
   "id": "d43ac054-8a34-48db-898e-f847eeb3ba5c",
   "metadata": {},
   "source": [
    "# Input Test Value in Functional Programing with Python"
   ]
  },
  {
   "cell_type": "markdown",
   "id": "50829aef-3126-47d1-90be-1db86d3f7a46",
   "metadata": {},
   "source": [
    "## Origin of the Project"
   ]
  },
  {
   "cell_type": "markdown",
   "id": "6954619a-0b59-41eb-81f9-a1c25b4c0ca5",
   "metadata": {},
   "source": [
    "### get_value(): basic function to retrieve input value"
   ]
  },
  {
   "cell_type": "code",
   "execution_count": 1,
   "id": "02508690-d3a5-4566-8853-1fdcf769fac0",
   "metadata": {},
   "outputs": [],
   "source": [
    "\n",
    "def get_value(message):\n",
    "    '''\n",
    "    Return the value provided through input()\n",
    "    \n",
    "        Parameters:\n",
    "            - message (str): A message to display for the user\n",
    "            \n",
    "        Return:\n",
    "            _ (str): the value provided by user\n",
    "    \n",
    "    '''\n",
    "    return input(f'{message} :')"
   ]
  },
  {
   "cell_type": "markdown",
   "id": "d9e7c1ab-ad97-4a87-8fc8-29010536c2ac",
   "metadata": {},
   "source": [
    "### The functions test: testing the input value"
   ]
  },
  {
   "cell_type": "code",
   "execution_count": 2,
   "id": "06e7be19-f635-4339-a8a6-1f7521654a3f",
   "metadata": {},
   "outputs": [],
   "source": [
    "\n",
    "def is_safe_not_empty(value):\n",
    "    '''\n",
    "    Test is given value is not empty that includes white space.\n",
    "    Raises ValueError with message 'Please enter information'.\n",
    "    \n",
    "        Parameters:\n",
    "            - value (str): a given value\n",
    "        \n",
    "        Return:\n",
    "            - value (str): the given value\n",
    "    '''\n",
    "    \n",
    "    if not value.strip():\n",
    "        raise ValueError('Please enter information.')\n",
    "    else:\n",
    "        return value\n",
    "\n",
    "\n",
    "def is_safe_digit(numb_str):\n",
    "    '''\n",
    "    Test if a given value can be converted to an integer object.\n",
    "    \n",
    "    If value non convertible, raises ValueError with default Error message: \"Please provide a int\"  \n",
    "    If value is convertible, return the given value.\n",
    "\n",
    "    \n",
    "        Parameters:\n",
    "            numb_str (str): A given string value\n",
    "            \n",
    "        Returns:\n",
    "            numb_int (int): an interger object\n",
    "    '''\n",
    "    try:\n",
    "        number_int = int(numb_str)\n",
    "    except ValueError:\n",
    "        raise ValueError('Please, provide a int.')\n",
    "    else: \n",
    "        \n",
    "        return number_int\n",
    "        \n",
    "    \n",
    "      \n",
    "def is_safe_zero_division(numb_int):\n",
    "    '''\n",
    "    Test if a give value can be use as denomitor for division. \n",
    "    \n",
    "    If value is zero, raises ZeroDivisionError with default Error message: \"Can't divide by 0.\"  \n",
    "    If value is not zero, return the value\n",
    "    \n",
    "        Parameters:\n",
    "            - numb_str (int): A given int value\n",
    "    '''\n",
    "\n",
    "    try:\n",
    "        7/int(numb_int)\n",
    "    except ZeroDivisionError:\n",
    "        raise ZeroDivisionError('Can\\'t divide by 0.')\n",
    "            \n",
    "    else:\n",
    "            return numb_int\n",
    "        \n",
    "        \n",
    "\n",
    "\n",
    "\n",
    "def is_dummy():\n",
    "    return 'good'"
   ]
  },
  {
   "cell_type": "code",
   "execution_count": 3,
   "id": "99025dbd-0872-4b2f-8ecd-a46c92829456",
   "metadata": {},
   "outputs": [],
   "source": [
    "\n",
    "def test_value(test_func, recall_func, value):\n",
    "    '''\n",
    "    Test a given value with a given test function. \n",
    "    \n",
    "    If test failed, raises exception with personalised error message and return a recall function. \n",
    "    If test succeed, returnes a given value\n",
    "    \n",
    "        Parameters:\n",
    "            - test_func (function): A test function which is going to test the given value. \n",
    "            - recall_funct (function): A function that is going to be recalled if test failed (ie. give_value())\n",
    "            - value: a value that needs to be tested.\n",
    "    '''\n",
    "        \n",
    "    try:\n",
    "        tested_value=test_func(value)\n",
    "        \n",
    "    except Exception as exp:\n",
    "        print(f'{\"Error :\":<8} {exp}')\n",
    "        return recall_func()\n",
    "    else:\n",
    "        return value\n"
   ]
  },
  {
   "cell_type": "code",
   "execution_count": 4,
   "id": "b330e147-77e0-4da1-9b66-0ab2657c732b",
   "metadata": {},
   "outputs": [],
   "source": [
    "def get_value_and_test(*funcs, message):\n",
    "    '''\n",
    "    Recursive function\n",
    "    Starting from an input function (ie. get_value()), it will test the return\n",
    "    value with successive test functions.\n",
    "    \n",
    "        Parameters:\n",
    "            - *functs (tuple): list of functions with successive order from left to right.\n",
    "            The furthest left must be dedicated to input function (ie. get_value()).\n",
    "            ie. testing if input value is not empty and convertible to interger object:\n",
    "            (is_safe_digit, is_safe_not_empty, get_value)\n",
    "            - message (str): A message to display for the user when input is run.\n",
    "        \n",
    "        Returns:\n",
    "            If value pass the test(s), tested_value_approved (*): input value     \n",
    "    \n",
    "    '''\n",
    "    \n",
    "    # first level - encapsulate the get get_value and tests\n",
    "\n",
    "    def launch_get_value():\n",
    "        \n",
    "        # second level - run the input() function \n",
    "        \n",
    "        # If one of the test function raises exception - recall the function'launch_get_value' \n",
    "        # though the function test_value (see function test_value)\n",
    "        \n",
    "        *tests, get_value=funcs # destructure functions, given that the last one must be the input() function\n",
    "        \n",
    "        value = get_value(message) # run get value and assign the input to variable value\n",
    "        \n",
    "        def launch_test(*tests, value):  \n",
    "            \n",
    "            # third level - Recursive function\n",
    "        \n",
    "            len_tests = len(tests) \n",
    "            \n",
    "            if len_tests ==1: # last test : end of the recursion \n",
    "                \n",
    "                last_test = tests[0]\n",
    "                \n",
    "                tested_value_approved =  test_value(last_test, launch_get_value, value) # if last test raises exeception call launch_get_value\n",
    "                \n",
    "                return tested_value_approved # end of get_value_and_test return approved tested_value \n",
    "                \n",
    "            else:\n",
    "            \n",
    "                *last_tests,  first_test = tests # get the last test of the list of test. If hierachy between tests (\n",
    "                                                 # ie. input must resturn an int(str), this test would have to be picked first)\n",
    "            \n",
    "                tested_value = test_value(first_test, launch_get_value, value) # if last test raises exeception call launch_get_value\n",
    "\n",
    "                # return launch_test(last_tests, value=tested_value) if len(last_tests)==1 else launch_test(*last_tests, value=tested_value)\n",
    "                \n",
    "                return launch_test(*last_tests, value=tested_value) # recursion of launch_test function wiht -1 function in test function\n",
    "\n",
    "              \n",
    "        return launch_test(*tests, value=value) # !!! launch_test FIRST RUN HERE \n",
    "\n",
    "    return launch_get_value\n",
    "  "
   ]
  },
  {
   "cell_type": "markdown",
   "id": "5ad4a147-183a-42c1-a0b7-141e4958707b",
   "metadata": {},
   "source": [
    "### Application with the creation of a \"Safe\" divide function"
   ]
  },
  {
   "cell_type": "code",
   "execution_count": 5,
   "id": "d6374e3e-4586-4adc-ab08-b6fb5d32a127",
   "metadata": {},
   "outputs": [],
   "source": [
    "def divide(x, y):\n",
    "    return int(x)/int(y)\n",
    "\n",
    "\n",
    "def safe_divide(function):\n",
    "    \n",
    "    def run_safe_divide():\n",
    "        numerator = get_value_and_test(is_safe_digit,\n",
    "                                   is_safe_not_empty,\n",
    "                                   get_value,\n",
    "                                   message='Please enter an numerator')()\n",
    "        \n",
    "        denominator = get_value_and_test(is_safe_zero_division,\n",
    "                                     is_safe_digit,\n",
    "                                     is_safe_not_empty,\n",
    "                                     get_value,\n",
    "                                     message='Please enter an denominator')()\n",
    "        \n",
    "        return function(numerator, denominator)\n",
    "    \n",
    "    return run_safe_divide\n",
    "    \n",
    "run_safe_divide = safe_divide(divide)\n",
    "\n"
   ]
  },
  {
   "cell_type": "code",
   "execution_count": 6,
   "id": "aaa885c3-2361-48a6-aee7-df51c6bb4ff4",
   "metadata": {},
   "outputs": [
    {
     "name": "stdin",
     "output_type": "stream",
     "text": [
      "Please enter an numerator : o\n"
     ]
    },
    {
     "name": "stdout",
     "output_type": "stream",
     "text": [
      "Error :  Please, provide a int.\n"
     ]
    },
    {
     "name": "stdin",
     "output_type": "stream",
     "text": [
      "Please enter an numerator : 9\n",
      "Please enter an denominator : 0\n"
     ]
    },
    {
     "name": "stdout",
     "output_type": "stream",
     "text": [
      "Error :  Can't divide by 0.\n"
     ]
    },
    {
     "name": "stdin",
     "output_type": "stream",
     "text": [
      "Please enter an denominator : 3\n"
     ]
    },
    {
     "data": {
      "text/plain": [
       "3.0"
      ]
     },
     "execution_count": 6,
     "metadata": {},
     "output_type": "execute_result"
    }
   ],
   "source": [
    "run_safe_divide()"
   ]
  },
  {
   "cell_type": "markdown",
   "id": "9cf8b465-b4dd-4ebf-9205-d117945245c4",
   "metadata": {},
   "source": [
    "## Extension: other value checking"
   ]
  },
  {
   "cell_type": "markdown",
   "id": "880c70b4-f17b-4020-86e9-1eea1a0b3f45",
   "metadata": {},
   "source": [
    "### Tests function"
   ]
  },
  {
   "cell_type": "code",
   "execution_count": 7,
   "id": "6ed69838-3294-4e14-bfc5-ae83a7a08b23",
   "metadata": {},
   "outputs": [],
   "source": [
    "import re\n",
    "\n",
    "def is_safe_email(email):\n",
    "    '''\n",
    "    Test is given value is format email. \n",
    "    Require to use re library. \n",
    "    Raises Value error is give value is not in the email format.\n",
    "    \n",
    "        Parameter:\n",
    "            - email (str): an given value\n",
    "            \n",
    "        Return: \n",
    "            - email (str): an given value\n",
    "    '''\n",
    "    if not re.fullmatch(r'\\b[A-Za-z0-9._%+-]+@[A-Za-z0-9.-]+\\.[A-Z|a-z]{2,}\\b', email):\n",
    "        raise ValueError('Please enter email')\n",
    "    else:\n",
    "        return email\n",
    "    \n",
    "    \n"
   ]
  },
  {
   "cell_type": "code",
   "execution_count": 8,
   "id": "4980d827-d2ca-40d8-98cb-ab9150b9ec9a",
   "metadata": {},
   "outputs": [
    {
     "name": "stdin",
     "output_type": "stream",
     "text": [
      "Please enter an email :  \n"
     ]
    },
    {
     "name": "stdout",
     "output_type": "stream",
     "text": [
      "Error :  Please enter information.\n"
     ]
    },
    {
     "name": "stdin",
     "output_type": "stream",
     "text": [
      "Please enter an email : test.test@gmail.com\n"
     ]
    },
    {
     "data": {
      "text/plain": [
       "'test.test@gmail.com'"
      ]
     },
     "execution_count": 8,
     "metadata": {},
     "output_type": "execute_result"
    }
   ],
   "source": [
    "get_email = get_value_and_test(is_safe_email, is_safe_not_empty, get_value, message='Please enter an email')\n",
    "\n",
    "get_email()\n",
    "\n"
   ]
  },
  {
   "cell_type": "code",
   "execution_count": null,
   "id": "5e09ea39-5d9a-471f-a839-1de6c136c9bd",
   "metadata": {},
   "outputs": [],
   "source": []
  }
 ],
 "metadata": {
  "kernelspec": {
   "display_name": "Python 3",
   "language": "python",
   "name": "python3"
  },
  "language_info": {
   "codemirror_mode": {
    "name": "ipython",
    "version": 3
   },
   "file_extension": ".py",
   "mimetype": "text/x-python",
   "name": "python",
   "nbconvert_exporter": "python",
   "pygments_lexer": "ipython3",
   "version": "3.8.5"
  }
 },
 "nbformat": 4,
 "nbformat_minor": 5
}
