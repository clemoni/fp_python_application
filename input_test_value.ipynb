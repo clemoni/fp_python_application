{
 "cells": [
  {
   "cell_type": "markdown",
   "id": "d43ac054-8a34-48db-898e-f847eeb3ba5c",
   "metadata": {},
   "source": [
    "# Input Test Value in Functional Programing with Python"
   ]
  },
  {
   "cell_type": "markdown",
   "id": "6954619a-0b59-41eb-81f9-a1c25b4c0ca5",
   "metadata": {},
   "source": [
    "## get_value: basic function to retrive input value"
   ]
  },
  {
   "cell_type": "code",
   "execution_count": 2,
   "id": "02508690-d3a5-4566-8853-1fdcf769fac0",
   "metadata": {},
   "outputs": [],
   "source": [
    "\n",
    "def get_value(message):\n",
    "    '''\n",
    "    Return the value provided through input()\n",
    "    \n",
    "        Parameters:\n",
    "            message (str): A message to display for the user\n",
    "            \n",
    "        Return:\n",
    "            _ (str): the value provided by user\n",
    "    \n",
    "    '''\n",
    "    return input(f'{message} :')"
   ]
  },
  {
   "cell_type": "markdown",
   "id": "d9e7c1ab-ad97-4a87-8fc8-29010536c2ac",
   "metadata": {},
   "source": [
    "## The functions test: test the input value"
   ]
  },
  {
   "cell_type": "code",
   "execution_count": 7,
   "id": "06e7be19-f635-4339-a8a6-1f7521654a3f",
   "metadata": {},
   "outputs": [],
   "source": [
    "\n",
    "\n",
    "def is_digit(message='Please provide a int'):\n",
    "    '''\n",
    "    Test if a given value can be converted to an integer object.\n",
    "    \n",
    "    If value non convertible, raise ValueError with personalised message.\n",
    "    By default the Error message is 'Please provide a int'\n",
    "    \n",
    "    If value is convertible, return the given value. \n",
    "    \n",
    "        Parameters:\n",
    "            message (str): A personalised message if given value can't be convertible to interger object. \n",
    "            num (str): A given string value\n",
    "            \n",
    "        Returns:\n",
    "            int_num (int): an interger object\n",
    "    '''\n",
    "    def init_message(num):\n",
    "        try:\n",
    "            int_num = int(num)\n",
    "        except ValueError:\n",
    "            raise ValueError(message)\n",
    "        else: \n",
    "            return int(int_num)\n",
    "        \n",
    "    return init_message\n",
    "    \n",
    "      \n",
    "def is_zero(num):\n",
    "    try:\n",
    "        7/int(num)\n",
    "    except ZeroDivisionError:\n",
    "        raise ZeroDivisionError('Please avoid 0 for denominator')\n",
    "        \n",
    "        \n",
    "def is_dummy(num):\n",
    "    return num\n",
    "\n",
    "\n",
    "def test_value(func, recall, value):\n",
    "    try:\n",
    "        tested_value=func(value)\n",
    "    except Exception as exp:\n",
    "        print('error', exp)\n",
    "        return recall()\n",
    "    else:\n",
    "        return value\n",
    "    "
   ]
  },
  {
   "cell_type": "code",
   "execution_count": 8,
   "id": "99025dbd-0872-4b2f-8ecd-a46c92829456",
   "metadata": {},
   "outputs": [
    {
     "data": {
      "text/plain": [
       "int"
      ]
     },
     "execution_count": 8,
     "metadata": {},
     "output_type": "execute_result"
    }
   ],
   "source": [
    "type(is_digit()('1'))"
   ]
  },
  {
   "cell_type": "code",
   "execution_count": null,
   "id": "b330e147-77e0-4da1-9b66-0ab2657c732b",
   "metadata": {},
   "outputs": [],
   "source": [
    "def get_value_and_test(*funcs, message):\n",
    "    \n",
    "    # first level - encapsulate the get get_value and test\n",
    "    \n",
    "    def launch_get_value():\n",
    "        \n",
    "        # second level - run de get value \n",
    "        \n",
    "        # If one of the test function raises exception - recursion on this level 'launch_get_value' (see function test_value)\n",
    "        \n",
    "        *tests, get_value=funcs # destructure functions, given that the last one must be get_value\n",
    "        \n",
    "        value = get_value(message) # run get value and assigne the input to variable value\n",
    "        \n",
    "        def launch_test(*tests, value):  \n",
    "            \n",
    "            # third level - Recursive function\n",
    "        \n",
    "            len_tests = len(tests) \n",
    "            \n",
    "            if len_tests ==1: # last test : end of the recursion \n",
    "                \n",
    "                last_test = tests[0]\n",
    "                \n",
    "                tested_value_approved =  test_value(last_test, launch_get_value, value) # if last test raises exeception call launch_get_value\n",
    "                \n",
    "                return tested_value_approved # end of get_value_and_test return approved tested_value \n",
    "                \n",
    "            else:\n",
    "            \n",
    "                *last_tests,  first_test = tests # get the last test of the list of test. If hierachy between tests (\n",
    "                                                 # ie. input must resturn an int(str), this test would have to be picked first)\n",
    "            \n",
    "                tested_value = test_value(first_test, launch_get_value, value) # if last test raises exeception call launch_get_value\n",
    "\n",
    "                # return launch_test(last_tests, value=tested_value) if len(last_tests)==1 else launch_test(*last_tests, value=tested_value)\n",
    "                \n",
    "                return launch_test(*last_tests, value=tested_value) # recursion of launch_test function wiht -1 function in test function\n",
    "\n",
    "              \n",
    "        return launch_test(*tests, value=value) # !!! launch_test FIRST RUN HERE \n",
    "\n",
    "    return launch_get_value\n",
    "  "
   ]
  },
  {
   "cell_type": "code",
   "execution_count": null,
   "id": "1e46cedc-ac3b-4a10-9e89-91c807ac7d9b",
   "metadata": {},
   "outputs": [],
   "source": []
  }
 ],
 "metadata": {
  "kernelspec": {
   "display_name": "Python 3",
   "language": "python",
   "name": "python3"
  },
  "language_info": {
   "codemirror_mode": {
    "name": "ipython",
    "version": 3
   },
   "file_extension": ".py",
   "mimetype": "text/x-python",
   "name": "python",
   "nbconvert_exporter": "python",
   "pygments_lexer": "ipython3",
   "version": "3.8.5"
  }
 },
 "nbformat": 4,
 "nbformat_minor": 5
}
